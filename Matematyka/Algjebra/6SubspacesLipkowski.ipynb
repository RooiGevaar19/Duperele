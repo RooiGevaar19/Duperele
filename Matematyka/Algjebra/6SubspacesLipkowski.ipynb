{
 "cells": [
  {
   "cell_type": "markdown",
   "metadata": {},
   "source": [
    "# Zadanie 0.1"
   ]
  },
  {
   "cell_type": "code",
   "execution_count": 55,
   "metadata": {},
   "outputs": [
    {
     "data": {
      "text/plain": [
       "Free module of degree 3 and rank 0 over Integer Ring\n",
       "Echelon basis matrix:\n",
       "[]"
      ]
     },
     "execution_count": 55,
     "metadata": {},
     "output_type": "execute_result"
    }
   ],
   "source": [
    "A1Z = MatrixSpace(ZZ,3,4)([1,1,1,3, 3,3,0,1, 1,0,2,2])\n",
    "A1Z.kernel()"
   ]
  },
  {
   "cell_type": "code",
   "execution_count": 56,
   "metadata": {},
   "outputs": [
    {
     "data": {
      "text/plain": [
       "Vector space of degree 3 and dimension 0 over Rational Field\n",
       "Basis matrix:\n",
       "[]"
      ]
     },
     "execution_count": 56,
     "metadata": {},
     "output_type": "execute_result"
    }
   ],
   "source": [
    "A1Q = MatrixSpace(QQ,3,4)([1,1,1,3, 3,3,0,1, 1,0,2,2])\n",
    "A1Q.kernel()"
   ]
  },
  {
   "cell_type": "markdown",
   "metadata": {},
   "source": [
    "# Zadanie 0.2"
   ]
  },
  {
   "cell_type": "code",
   "execution_count": 23,
   "metadata": {},
   "outputs": [],
   "source": [
    "A2 = matrix([[1,1,1,3], [3,3,0,1],[1,0,2,2]])"
   ]
  },
  {
   "cell_type": "code",
   "execution_count": 24,
   "metadata": {},
   "outputs": [
    {
     "data": {
      "text/plain": [
       "Free module of degree 4 and rank 3 over Integer Ring\n",
       "Echelon basis matrix:\n",
       "[1 0 2 2]\n",
       "[0 1 2 9]\n",
       "[0 0 3 8]"
      ]
     },
     "execution_count": 24,
     "metadata": {},
     "output_type": "execute_result"
    }
   ],
   "source": [
    "A2.image()"
   ]
  },
  {
   "cell_type": "code",
   "execution_count": 26,
   "metadata": {},
   "outputs": [
    {
     "data": {
      "text/plain": [
       "Free module of degree 3 and rank 3 over Integer Ring\n",
       "Echelon basis matrix:\n",
       "[1 0 0]\n",
       "[0 1 0]\n",
       "[0 0 1]"
      ]
     },
     "execution_count": 26,
     "metadata": {},
     "output_type": "execute_result"
    }
   ],
   "source": [
    "A2.transpose().image()"
   ]
  },
  {
   "cell_type": "markdown",
   "metadata": {},
   "source": [
    "# Zadanie 0.3"
   ]
  },
  {
   "cell_type": "code",
   "execution_count": 72,
   "metadata": {},
   "outputs": [],
   "source": [
    "A3 = matrix([[-2,0,1,2,4], [-73,-1,-4,3,1], [58,1,1,-2,-9]])"
   ]
  },
  {
   "cell_type": "code",
   "execution_count": 45,
   "metadata": {},
   "outputs": [
    {
     "name": "stdout",
     "output_type": "stream",
     "text": [
      "Wektory są liniowo niezależne\n"
     ]
    }
   ],
   "source": [
    "if (A3.rank() == len(A3.rows())):\n",
    "    print \"Wektory są liniowo niezależne\"\n",
    "else:\n",
    "    print \"Wektory są liniowo zależne\""
   ]
  },
  {
   "cell_type": "markdown",
   "metadata": {},
   "source": [
    "# Zadanie 0.4"
   ]
  },
  {
   "cell_type": "code",
   "execution_count": 94,
   "metadata": {},
   "outputs": [],
   "source": [
    "V4 = VectorSpace(QQ,5)\n",
    "W4 = V4.span([V4([-2,0,1,2,4]), V4([-73,-1,-4,3,1]), V4([58,1,1,-2,-9])])"
   ]
  },
  {
   "cell_type": "code",
   "execution_count": 110,
   "metadata": {},
   "outputs": [
    {
     "name": "stdout",
     "output_type": "stream",
     "text": [
      "Wektor  (-2, -7, 2, 1, 41)  nie należy do podprzestrzeni.\n",
      "Wektor  (7, -114, 0, 35, 21)  nie należy do podprzestrzeni.\n",
      "Wektor  (-1, -1, -40, -69, -143)  należy do podprzestrzeni i jego współczynniki wynoszą  (-1, -1, -40)\n"
     ]
    }
   ],
   "source": [
    "vectors = [V4([-2, -7, 2, 1, 41]), V4([7, -114, 0, 35, 21]), V4([-1, -1, -40, -69, -143])]\n",
    "for i in vectors:\n",
    "    try:\n",
    "        S = W4.matrix().transpose().solve_right(i)\n",
    "        print \"Wektor \", i, \" należy do podprzestrzeni i jego współczynniki wynoszą \", S\n",
    "    except:\n",
    "        print \"Wektor \", i, \" nie należy do podprzestrzeni.\" "
   ]
  },
  {
   "cell_type": "markdown",
   "metadata": {},
   "source": [
    "# Zadanie 0.5"
   ]
  },
  {
   "cell_type": "code",
   "execution_count": 114,
   "metadata": {},
   "outputs": [],
   "source": [
    "W5 = V4.span([V4([0,1,30,56,107]), V4([0,-2,-18,-56,-62]), V4([3,-1,0,-17,1])])\n",
    "W6 = V4.span([V4([-3,2,9,45,30]), V4([-1,0,74,99,268]), V4([-13,4,536,783,1936])])"
   ]
  },
  {
   "cell_type": "code",
   "execution_count": 113,
   "metadata": {},
   "outputs": [
    {
     "data": {
      "text/plain": [
       "True"
      ]
     },
     "execution_count": 113,
     "metadata": {},
     "output_type": "execute_result"
    }
   ],
   "source": [
    "W5 == W4"
   ]
  },
  {
   "cell_type": "code",
   "execution_count": 115,
   "metadata": {},
   "outputs": [
    {
     "data": {
      "text/plain": [
       "False"
      ]
     },
     "execution_count": 115,
     "metadata": {},
     "output_type": "execute_result"
    }
   ],
   "source": [
    "W6 == W4"
   ]
  },
  {
   "cell_type": "code",
   "execution_count": null,
   "metadata": {},
   "outputs": [],
   "source": []
  }
 ],
 "metadata": {
  "kernelspec": {
   "display_name": "SageMath 8.1",
   "language": "",
   "name": "sagemath"
  },
  "language_info": {
   "codemirror_mode": {
    "name": "ipython",
    "version": 2
   },
   "file_extension": ".py",
   "mimetype": "text/x-python",
   "name": "python",
   "nbconvert_exporter": "python",
   "pygments_lexer": "ipython2",
   "version": "2.7.15rc1"
  }
 },
 "nbformat": 4,
 "nbformat_minor": 2
}
