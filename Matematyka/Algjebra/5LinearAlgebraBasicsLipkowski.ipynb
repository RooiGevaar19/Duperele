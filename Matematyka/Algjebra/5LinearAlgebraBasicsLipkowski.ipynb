{
 "cells": [
  {
   "cell_type": "markdown",
   "metadata": {},
   "source": [
    "# Zadanie 0.1"
   ]
  },
  {
   "cell_type": "code",
   "execution_count": 3,
   "metadata": {},
   "outputs": [
    {
     "data": {
      "text/html": [
       "<html><script type=\"math/tex; mode=display\">\\newcommand{\\Bold}[1]{\\mathbf{#1}}\\left(2,\\,6\\right)</script></html>"
      ],
      "text/plain": [
       "(2, 6)"
      ]
     },
     "metadata": {},
     "output_type": "display_data"
    },
    {
     "data": {
      "text/html": [
       "<html><script type=\"math/tex; mode=display\">\\newcommand{\\Bold}[1]{\\mathbf{#1}}\\left(2,\\,4\\right)</script></html>"
      ],
      "text/plain": [
       "(2, 4)"
      ]
     },
     "metadata": {},
     "output_type": "display_data"
    }
   ],
   "source": [
    "v = vector([2, 0]); \n",
    "A = matrix([[1, 2], [3, 4]]);\n",
    "\n",
    "show(A*v); \n",
    "show(v*A)"
   ]
  },
  {
   "cell_type": "markdown",
   "metadata": {},
   "source": [
    "Wektor pomnożony przez macierz lewostronnie jest traktowany jak 1-kolumnowa macierz, a prawostronnie jak 1-wierszowa macierz."
   ]
  },
  {
   "cell_type": "code",
   "execution_count": 4,
   "metadata": {},
   "outputs": [
    {
     "data": {
      "text/html": [
       "<html><script type=\"math/tex; mode=display\">\\newcommand{\\Bold}[1]{\\mathbf{#1}}\\left(8,\\,8\\right)</script></html>"
      ],
      "text/plain": [
       "(8, 8)"
      ]
     },
     "metadata": {},
     "output_type": "display_data"
    }
   ],
   "source": [
    "B = matrix([[1, 1], [1, 1]]);\n",
    "show(A*v*B)"
   ]
  },
  {
   "cell_type": "markdown",
   "metadata": {},
   "source": [
    "# Zadanie 0.2\n"
   ]
  },
  {
   "cell_type": "code",
   "execution_count": 5,
   "metadata": {},
   "outputs": [],
   "source": [
    "A2 = matrix([[1,-1,0,7], [1,1,-3,1], [-1,-3,3,2], [-4,0,1,-1]]);"
   ]
  },
  {
   "cell_type": "code",
   "execution_count": 6,
   "metadata": {},
   "outputs": [],
   "source": [
    "I2 = identity_matrix(4);"
   ]
  },
  {
   "cell_type": "code",
   "execution_count": 7,
   "metadata": {},
   "outputs": [
    {
     "data": {
      "text/plain": [
       "[-1/120  -2/15  -1/24 -11/40]\n",
       "[ 11/40   -3/5   -5/8   3/40]\n",
       "[  3/20   -3/5   -1/4  -1/20]\n",
       "[ 11/60  -1/15  -1/12   1/20]"
      ]
     },
     "execution_count": 7,
     "metadata": {},
     "output_type": "execute_result"
    }
   ],
   "source": [
    "A2.solve_right(I2)"
   ]
  },
  {
   "cell_type": "code",
   "execution_count": 8,
   "metadata": {},
   "outputs": [
    {
     "data": {
      "text/plain": [
       "[-1/120  -2/15  -1/24 -11/40]\n",
       "[ 11/40   -3/5   -5/8   3/40]\n",
       "[  3/20   -3/5   -1/4  -1/20]\n",
       "[ 11/60  -1/15  -1/12   1/20]"
      ]
     },
     "execution_count": 8,
     "metadata": {},
     "output_type": "execute_result"
    }
   ],
   "source": [
    "A2.inverse()"
   ]
  },
  {
   "cell_type": "markdown",
   "metadata": {},
   "source": [
    "# Zadanie 0.3"
   ]
  },
  {
   "cell_type": "code",
   "execution_count": 9,
   "metadata": {},
   "outputs": [],
   "source": [
    "A2 = matrix([[1,-1,0,7], [1,1,-3,1], [-1,-3,3,2], [-4,0,1,-1]])\n",
    "I2 = identity_matrix(4)"
   ]
  },
  {
   "cell_type": "code",
   "execution_count": 10,
   "metadata": {},
   "outputs": [],
   "source": [
    "x = var('x')\n",
    "l = var('l')\n",
    "realpoly.<l> = PolynomialRing(RR);"
   ]
  },
  {
   "cell_type": "code",
   "execution_count": 11,
   "metadata": {},
   "outputs": [],
   "source": [
    "L = (A2-l*I2).determinant()"
   ]
  },
  {
   "cell_type": "code",
   "execution_count": 12,
   "metadata": {},
   "outputs": [
    {
     "data": {
      "text/html": [
       "<html><script type=\"math/tex; mode=display\">\\newcommand{\\Bold}[1]{\\mathbf{#1}}\\left[\\left(-0.986885505859874, 1\\right), \\left(4.93234814524367, 1\\right)\\right]</script></html>"
      ],
      "text/plain": [
       "[(-0.986885505859874, 1), (4.93234814524367, 1)]"
      ]
     },
     "metadata": {},
     "output_type": "display_data"
    }
   ],
   "source": [
    "show(L.roots())"
   ]
  },
  {
   "cell_type": "code",
   "execution_count": 13,
   "metadata": {},
   "outputs": [
    {
     "data": {
      "text/plain": [
       "[x == -1/6*sqrt((9*(5/18*sqrt(216252467)*sqrt(3) + 321163/54)^(2/3) - 84*(5/18*sqrt(216252467)*sqrt(3) + 321163/54)^(1/3) - 2204)/(5/18*sqrt(216252467)*sqrt(3) + 321163/54)^(1/3)) - 1/2*sqrt(-(5/18*sqrt(216252467)*sqrt(3) + 321163/54)^(1/3) + 2204/9/(5/18*sqrt(216252467)*sqrt(3) + 321163/54)^(1/3) - 390/sqrt((9*(5/18*sqrt(216252467)*sqrt(3) + 321163/54)^(2/3) - 84*(5/18*sqrt(216252467)*sqrt(3) + 321163/54)^(1/3) - 2204)/(5/18*sqrt(216252467)*sqrt(3) + 321163/54)^(1/3)) - 56/3) + 1, x == -1/6*sqrt((9*(5/18*sqrt(216252467)*sqrt(3) + 321163/54)^(2/3) - 84*(5/18*sqrt(216252467)*sqrt(3) + 321163/54)^(1/3) - 2204)/(5/18*sqrt(216252467)*sqrt(3) + 321163/54)^(1/3)) + 1/2*sqrt(-(5/18*sqrt(216252467)*sqrt(3) + 321163/54)^(1/3) + 2204/9/(5/18*sqrt(216252467)*sqrt(3) + 321163/54)^(1/3) - 390/sqrt((9*(5/18*sqrt(216252467)*sqrt(3) + 321163/54)^(2/3) - 84*(5/18*sqrt(216252467)*sqrt(3) + 321163/54)^(1/3) - 2204)/(5/18*sqrt(216252467)*sqrt(3) + 321163/54)^(1/3)) - 56/3) + 1, x == 1/6*sqrt((9*(5/18*sqrt(216252467)*sqrt(3) + 321163/54)^(2/3) - 84*(5/18*sqrt(216252467)*sqrt(3) + 321163/54)^(1/3) - 2204)/(5/18*sqrt(216252467)*sqrt(3) + 321163/54)^(1/3)) - 1/2*sqrt(-(5/18*sqrt(216252467)*sqrt(3) + 321163/54)^(1/3) + 2204/9/(5/18*sqrt(216252467)*sqrt(3) + 321163/54)^(1/3) + 390/sqrt((9*(5/18*sqrt(216252467)*sqrt(3) + 321163/54)^(2/3) - 84*(5/18*sqrt(216252467)*sqrt(3) + 321163/54)^(1/3) - 2204)/(5/18*sqrt(216252467)*sqrt(3) + 321163/54)^(1/3)) - 56/3) + 1, x == 1/6*sqrt((9*(5/18*sqrt(216252467)*sqrt(3) + 321163/54)^(2/3) - 84*(5/18*sqrt(216252467)*sqrt(3) + 321163/54)^(1/3) - 2204)/(5/18*sqrt(216252467)*sqrt(3) + 321163/54)^(1/3)) + 1/2*sqrt(-(5/18*sqrt(216252467)*sqrt(3) + 321163/54)^(1/3) + 2204/9/(5/18*sqrt(216252467)*sqrt(3) + 321163/54)^(1/3) + 390/sqrt((9*(5/18*sqrt(216252467)*sqrt(3) + 321163/54)^(2/3) - 84*(5/18*sqrt(216252467)*sqrt(3) + 321163/54)^(1/3) - 2204)/(5/18*sqrt(216252467)*sqrt(3) + 321163/54)^(1/3)) - 56/3) + 1]"
      ]
     },
     "execution_count": 13,
     "metadata": {},
     "output_type": "execute_result"
    }
   ],
   "source": [
    "solve(SR(A2.charpoly()), x)"
   ]
  },
  {
   "cell_type": "code",
   "execution_count": 14,
   "metadata": {},
   "outputs": [
    {
     "data": {
      "text/plain": [
       "[-0.986885505859874?, 4.932348145243674?]"
      ]
     },
     "execution_count": 14,
     "metadata": {},
     "output_type": "execute_result"
    }
   ],
   "source": [
    "A2.eigenvalues()[:2]"
   ]
  },
  {
   "cell_type": "code",
   "execution_count": 15,
   "metadata": {},
   "outputs": [
    {
     "data": {
      "text/html": [
       "<html><script type=\"math/tex; mode=display\">\\newcommand{\\Bold}[1]{\\mathbf{#1}}\\frac{1}{6} \\, \\sqrt{\\frac{9 \\, {\\left(\\frac{5}{18} \\, \\sqrt{216252467} \\sqrt{3} + \\frac{321163}{54}\\right)}^{\\frac{2}{3}} - 84 \\, {\\left(\\frac{5}{18} \\, \\sqrt{216252467} \\sqrt{3} + \\frac{321163}{54}\\right)}^{\\frac{1}{3}} - 2204}{{\\left(\\frac{5}{18} \\, \\sqrt{216252467} \\sqrt{3} + \\frac{321163}{54}\\right)}^{\\frac{1}{3}}}} - \\frac{1}{2} \\, \\sqrt{-{\\left(\\frac{5}{18} \\, \\sqrt{216252467} \\sqrt{3} + \\frac{321163}{54}\\right)}^{\\frac{1}{3}} + \\frac{2204}{9 \\, {\\left(\\frac{5}{18} \\, \\sqrt{216252467} \\sqrt{3} + \\frac{321163}{54}\\right)}^{\\frac{1}{3}}} + \\frac{390}{\\sqrt{\\frac{9 \\, {\\left(\\frac{5}{18} \\, \\sqrt{216252467} \\sqrt{3} + \\frac{321163}{54}\\right)}^{\\frac{2}{3}} - 84 \\, {\\left(\\frac{5}{18} \\, \\sqrt{216252467} \\sqrt{3} + \\frac{321163}{54}\\right)}^{\\frac{1}{3}} - 2204}{{\\left(\\frac{5}{18} \\, \\sqrt{216252467} \\sqrt{3} + \\frac{321163}{54}\\right)}^{\\frac{1}{3}}}}} - \\frac{56}{3}} + 1</script></html>"
      ],
      "text/plain": [
       "1/6*sqrt((9*(5/18*sqrt(216252467)*sqrt(3) + 321163/54)^(2/3) - 84*(5/18*sqrt(216252467)*sqrt(3) + 321163/54)^(1/3) - 2204)/(5/18*sqrt(216252467)*sqrt(3) + 321163/54)^(1/3)) - 1/2*sqrt(-(5/18*sqrt(216252467)*sqrt(3) + 321163/54)^(1/3) + 2204/9/(5/18*sqrt(216252467)*sqrt(3) + 321163/54)^(1/3) + 390/sqrt((9*(5/18*sqrt(216252467)*sqrt(3) + 321163/54)^(2/3) - 84*(5/18*sqrt(216252467)*sqrt(3) + 321163/54)^(1/3) - 2204)/(5/18*sqrt(216252467)*sqrt(3) + 321163/54)^(1/3)) - 56/3) + 1"
      ]
     },
     "metadata": {},
     "output_type": "display_data"
    }
   ],
   "source": [
    "show(A2.eigenvalues()[0].radical_expression())"
   ]
  },
  {
   "cell_type": "markdown",
   "metadata": {},
   "source": [
    "# Zadanie 0.4"
   ]
  },
  {
   "cell_type": "code",
   "execution_count": 16,
   "metadata": {},
   "outputs": [
    {
     "data": {
      "text/plain": [
       "-120"
      ]
     },
     "execution_count": 16,
     "metadata": {},
     "output_type": "execute_result"
    }
   ],
   "source": [
    "A2.determinant()"
   ]
  },
  {
   "cell_type": "code",
   "execution_count": 27,
   "metadata": {},
   "outputs": [
    {
     "name": "stdout",
     "output_type": "stream",
     "text": [
      "120\n"
     ]
    }
   ],
   "source": [
    "W = A2.echelon_form().diagonal()\n",
    "print reduce(lambda x, y: x * y, W)"
   ]
  },
  {
   "cell_type": "code",
   "execution_count": 28,
   "metadata": {},
   "outputs": [
    {
     "name": "stdout",
     "output_type": "stream",
     "text": [
      "120\n"
     ]
    }
   ],
   "source": [
    "s = 1;\n",
    "for i in range(0, len(W)):\n",
    "    s *= W[i]\n",
    "print s"
   ]
  },
  {
   "cell_type": "markdown",
   "metadata": {},
   "source": [
    "# Zadanie 0.5"
   ]
  },
  {
   "cell_type": "code",
   "execution_count": 26,
   "metadata": {},
   "outputs": [
    {
     "data": {
      "text/plain": [
       "[ 1 -1  0  7| 1  0  0  0]\n",
       "[ 1  1 -3  1| 0  1  0  0]\n",
       "[-1 -3  3  2| 0  0  1  0]\n",
       "[-4  0  1 -1| 0  0  0  1]"
      ]
     },
     "execution_count": 26,
     "metadata": {},
     "output_type": "execute_result"
    }
   ],
   "source": [
    "block_matrix(QQ, 1, 2, [A2, I2])"
   ]
  },
  {
   "cell_type": "code",
   "execution_count": 25,
   "metadata": {},
   "outputs": [
    {
     "data": {
      "text/plain": [
       "[     1      0      0      0|-1/120  -2/15  -1/24 -11/40]\n",
       "[     0      1      0      0| 11/40   -3/5   -5/8   3/40]\n",
       "[     0      0      1      0|  3/20   -3/5   -1/4  -1/20]\n",
       "[     0      0      0      1| 11/60  -1/15  -1/12   1/20]"
      ]
     },
     "execution_count": 25,
     "metadata": {},
     "output_type": "execute_result"
    }
   ],
   "source": [
    "block_matrix(QQ, 1, 2, [A2, I2]).echelon_form()."
   ]
  },
  {
   "cell_type": "code",
   "execution_count": 22,
   "metadata": {},
   "outputs": [
    {
     "data": {
      "text/plain": [
       "[-1/120  -2/15  -1/24 -11/40]\n",
       "[ 11/40   -3/5   -5/8   3/40]\n",
       "[  3/20   -3/5   -1/4  -1/20]\n",
       "[ 11/60  -1/15  -1/12   1/20]"
      ]
     },
     "execution_count": 22,
     "metadata": {},
     "output_type": "execute_result"
    }
   ],
   "source": [
    "A2.solve_right(I2)"
   ]
  },
  {
   "cell_type": "markdown",
   "metadata": {},
   "source": [
    "# Zadanie 0.6"
   ]
  },
  {
   "cell_type": "code",
   "execution_count": 30,
   "metadata": {},
   "outputs": [],
   "source": [
    "A6 = matrix([[2,-1,3,4], [3,3,1,-1], [1,4,-2,-5]]);"
   ]
  },
  {
   "cell_type": "code",
   "execution_count": 66,
   "metadata": {},
   "outputs": [
    {
     "data": {
      "text/plain": [
       "2"
      ]
     },
     "execution_count": 66,
     "metadata": {},
     "output_type": "execute_result"
    }
   ],
   "source": [
    "# 1. Liczymy od razu z funkcji\n",
    "A6.rank()"
   ]
  },
  {
   "cell_type": "code",
   "execution_count": 67,
   "metadata": {},
   "outputs": [
    {
     "name": "stdout",
     "output_type": "stream",
     "text": [
      "2\n"
     ]
    }
   ],
   "source": [
    "# 2. Liczymy naokoło\n",
    "\n",
    "width = len(A6.columns())\n",
    "\n",
    "# Robimy macierz schodkową i wyciągamy wiersze\n",
    "AR = A6.echelon_form().rows()\n",
    "# za pomocą filtrowania usuwamy zerowe wiersze\n",
    "B6 = list(filter(lambda x : x != zero_vector(width), AR))\n",
    "# sprawdzamy ile mamy niezerowych wierszy\n",
    "S = len(B6)\n",
    "\n",
    "print S"
   ]
  },
  {
   "cell_type": "markdown",
   "metadata": {},
   "source": [
    "# Zadanie 0.7"
   ]
  },
  {
   "cell_type": "code",
   "execution_count": 107,
   "metadata": {},
   "outputs": [
    {
     "name": "stdout",
     "output_type": "stream",
     "text": [
      "(1/2, 1/2)\n"
     ]
    }
   ],
   "source": [
    "# Ciało liczb wymiernych\n",
    "CQ = matrix(QQ, [[1,1], [-1,1]])\n",
    "cQ = vector(QQ, [1, 0])\n",
    "try:\n",
    "    print CQ.solve_right(cQ)\n",
    "except ValueError:\n",
    "    print \"Brak rozwiązań. :(\""
   ]
  },
  {
   "cell_type": "code",
   "execution_count": 113,
   "metadata": {},
   "outputs": [
    {
     "name": "stdout",
     "output_type": "stream",
     "text": [
      "(1/2, 1/2)\n"
     ]
    }
   ],
   "source": [
    "# Ciało liczb całkowitych\n",
    "CZ = matrix(ZZ, [[1,1], [-1,1]])\n",
    "cZ = vector(ZZ, [1, 0])\n",
    "try:\n",
    "    print CZ.solve_right(cZ)\n",
    "except ValueError:\n",
    "    print \"Brak rozwiązań. :(\""
   ]
  },
  {
   "cell_type": "code",
   "execution_count": 94,
   "metadata": {},
   "outputs": [
    {
     "name": "stdout",
     "output_type": "stream",
     "text": [
      "matrix equation has no solutions\n"
     ]
    }
   ],
   "source": [
    "# Ciało liczb całkowitych\n",
    "CG = matrix(GF(2), [[1,1], [-1,1]])\n",
    "cG = vector(GF(2), [1, 0])\n",
    "try:\n",
    "    print CG.solve_right(cG)\n",
    "except ValueError as E:\n",
    "    print repr(E).split(\"\\'\")[1]"
   ]
  },
  {
   "cell_type": "code",
   "execution_count": null,
   "metadata": {},
   "outputs": [],
   "source": []
  }
 ],
 "metadata": {
  "kernelspec": {
   "display_name": "SageMath 8.1",
   "language": "",
   "name": "sagemath"
  },
  "language_info": {
   "codemirror_mode": {
    "name": "ipython",
    "version": 2
   },
   "file_extension": ".py",
   "mimetype": "text/x-python",
   "name": "python",
   "nbconvert_exporter": "python",
   "pygments_lexer": "ipython2",
   "version": "2.7.15rc1"
  }
 },
 "nbformat": 4,
 "nbformat_minor": 2
}
