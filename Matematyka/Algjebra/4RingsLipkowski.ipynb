{
 "cells": [
  {
   "cell_type": "markdown",
   "metadata": {},
   "source": [
    "# Zadanie 0.1"
   ]
  },
  {
   "cell_type": "code",
   "execution_count": 14,
   "metadata": {},
   "outputs": [],
   "source": [
    "realpoly.<z> = PolynomialRing(RR)"
   ]
  },
  {
   "cell_type": "code",
   "execution_count": 15,
   "metadata": {},
   "outputs": [
    {
     "data": {
      "text/plain": [
       "(2.00000000000000) * (z^2 + 0.500000000000000) * (z^2 + 1.00000000000000)"
      ]
     },
     "execution_count": 15,
     "metadata": {},
     "output_type": "execute_result"
    }
   ],
   "source": [
    "factor(2*z^4+3*z^2+1)"
   ]
  },
  {
   "cell_type": "code",
   "execution_count": 16,
   "metadata": {},
   "outputs": [],
   "source": [
    "realpoly.<y> = PolynomialRing(CC)"
   ]
  },
  {
   "cell_type": "code",
   "execution_count": 17,
   "metadata": {},
   "outputs": [
    {
     "data": {
      "text/plain": [
       "(2.00000000000000) * (y - I) * (y - 0.707106781186548*I) * (y + 0.707106781186548*I) * (y + I)"
      ]
     },
     "execution_count": 17,
     "metadata": {},
     "output_type": "execute_result"
    }
   ],
   "source": [
    "factor(2*y^4+3*y^2+1)"
   ]
  },
  {
   "cell_type": "markdown",
   "metadata": {},
   "source": [
    "W liczbach rzeczywistych factor() pozostawia wielomiany drugiego stopnia z pierwiastkami zespolonymi, a w zespolonych na dodatek upraszcza te wielomiany i sprowadza do postaci, że widać wszystkie pierwiastki zespolone."
   ]
  },
  {
   "cell_type": "markdown",
   "metadata": {},
   "source": [
    "# Zadanie 0.2"
   ]
  },
  {
   "cell_type": "code",
   "execution_count": 18,
   "metadata": {},
   "outputs": [],
   "source": [
    "Z5 = Zmod(5)"
   ]
  },
  {
   "cell_type": "code",
   "execution_count": 19,
   "metadata": {},
   "outputs": [
    {
     "name": "stdout",
     "output_type": "stream",
     "text": [
      "0  1  2  3  4  0  1  2  3  4 \n",
      "1  2  3  4  0  1  2  3  4  0 \n",
      "2  3  4  0  1  2  3  4  0  1 \n",
      "3  4  0  1  2  3  4  0  1  2 \n",
      "4  0  1  2  3  4  0  1  2  3 \n",
      "0  1  2  3  4  0  1  2  3  4 \n",
      "1  2  3  4  0  1  2  3  4  0 \n",
      "2  3  4  0  1  2  3  4  0  1 \n",
      "3  4  0  1  2  3  4  0  1  2 \n",
      "4  0  1  2  3  4  0  1  2  3 \n"
     ]
    }
   ],
   "source": [
    "for i in range(0, 10):\n",
    "    for j in range(0, 10):\n",
    "        print str(Z5(i+j))+\" \",\n",
    "    print"
   ]
  },
  {
   "cell_type": "code",
   "execution_count": 20,
   "metadata": {},
   "outputs": [
    {
     "name": "stdout",
     "output_type": "stream",
     "text": [
      "0  0  0  0  0  0  0  0  0  0 \n",
      "0  1  2  3  4  0  1  2  3  4 \n",
      "0  2  4  1  3  0  2  4  1  3 \n",
      "0  3  1  4  2  0  3  1  4  2 \n",
      "0  4  3  2  1  0  4  3  2  1 \n",
      "0  0  0  0  0  0  0  0  0  0 \n",
      "0  1  2  3  4  0  1  2  3  4 \n",
      "0  2  4  1  3  0  2  4  1  3 \n",
      "0  3  1  4  2  0  3  1  4  2 \n",
      "0  4  3  2  1  0  4  3  2  1 \n"
     ]
    }
   ],
   "source": [
    "for i in range(0, 10):\n",
    "    for j in range(0, 10):\n",
    "        print str(Z5(i*j))+\" \",\n",
    "    print"
   ]
  },
  {
   "cell_type": "code",
   "execution_count": 21,
   "metadata": {},
   "outputs": [],
   "source": [
    "Z4 = Zmod(4)"
   ]
  },
  {
   "cell_type": "code",
   "execution_count": 22,
   "metadata": {},
   "outputs": [
    {
     "name": "stdout",
     "output_type": "stream",
     "text": [
      "1\n",
      "3\n",
      "2\n",
      "4\n"
     ]
    }
   ],
   "source": [
    "for i in range(1, len(Z5)):\n",
    "    try:\n",
    "      print str(Z5(i^(-1)))\n",
    "    except:\n",
    "      print(str(i)+\" nie posiada elementu odwrotnego\") "
   ]
  },
  {
   "cell_type": "code",
   "execution_count": 23,
   "metadata": {},
   "outputs": [
    {
     "name": "stdout",
     "output_type": "stream",
     "text": [
      "1\n",
      "2 nie posiada elementu odwrotnego\n",
      "3\n"
     ]
    }
   ],
   "source": [
    "for i in range(1, len(Z4)):\n",
    "    try:\n",
    "      print str(Z4(i^(-1)))\n",
    "    except:\n",
    "      print(str(i)+\" nie posiada elementu odwrotnego\") "
   ]
  },
  {
   "cell_type": "markdown",
   "metadata": {},
   "source": [
    "Pierścień Z4 nie posiada wszystkich elementów odwracalnych, więc nie jest ciałem."
   ]
  },
  {
   "cell_type": "markdown",
   "metadata": {},
   "source": [
    "# Zadanie 0.3"
   ]
  },
  {
   "cell_type": "code",
   "execution_count": 24,
   "metadata": {},
   "outputs": [],
   "source": [
    "a = GF(3)"
   ]
  },
  {
   "cell_type": "code",
   "execution_count": 25,
   "metadata": {},
   "outputs": [
    {
     "name": "stdout",
     "output_type": "stream",
     "text": [
      "*\t0\t1\t2\t\n",
      "0\t0\t0\t0\t\n",
      "1\t0\t1\t2\t\n",
      "2\t0\t2\t4\t\n"
     ]
    }
   ],
   "source": [
    "b = range(0, 3)\n",
    "print \"*\\t\",\n",
    "for i in range(0, len(b)):\n",
    "    print str(i)+\"\\t\",\n",
    "print\n",
    "for i in range(0, len(b)):\n",
    "    print str(i)+\"\\t\",\n",
    "    for j in range(0, len(b)):\n",
    "        print str(i*j)+\"\\t\",\n",
    "    print"
   ]
  },
  {
   "cell_type": "code",
   "execution_count": 26,
   "metadata": {},
   "outputs": [
    {
     "name": "stdout",
     "output_type": "stream",
     "text": [
      "+\t0\t1\t2\t\n",
      "0\t0\t1\t2\t\n",
      "1\t1\t2\t0\t\n",
      "2\t2\t0\t1\t\n"
     ]
    }
   ],
   "source": [
    "print \"+\\t\",\n",
    "for i in range(0, len(a)):\n",
    "    print str(i)+\"\\t\",\n",
    "print\n",
    "\n",
    "for i in range(0, len(a)):\n",
    "    print str(i)+\"\\t\",\n",
    "    for j in range(0, len(a)):\n",
    "        print str(a(i+j))+\"\\t\",\n",
    "    print"
   ]
  },
  {
   "cell_type": "code",
   "execution_count": 27,
   "metadata": {},
   "outputs": [
    {
     "name": "stdout",
     "output_type": "stream",
     "text": [
      "*\t0\t1\t2\t\n",
      "0\t0\t0\t0\t\n",
      "1\t0\t1\t2\t\n",
      "2\t0\t2\t1\t\n"
     ]
    }
   ],
   "source": [
    "print \"*\\t\",\n",
    "for i in range(0, len(a)):\n",
    "    print str(i)+\"\\t\",\n",
    "print\n",
    "for i in range(0, len(a)):\n",
    "    print str(i)+\"\\t\",\n",
    "    for j in range(0, len(a)):\n",
    "        print str(a(i*j))+\"\\t\",\n",
    "    print"
   ]
  },
  {
   "cell_type": "markdown",
   "metadata": {},
   "source": [
    "# Zadanie 0.4"
   ]
  },
  {
   "cell_type": "code",
   "execution_count": 28,
   "metadata": {},
   "outputs": [],
   "source": [
    "x = var('x')\n",
    "realpoly.<x> = PolynomialRing(ZZ)\n"
   ]
  },
  {
   "cell_type": "code",
   "execution_count": 55,
   "metadata": {},
   "outputs": [],
   "source": [
    "f = x^5 - x + 3"
   ]
  },
  {
   "cell_type": "code",
   "execution_count": 56,
   "metadata": {},
   "outputs": [],
   "source": [
    "g = x^2 + 1"
   ]
  },
  {
   "cell_type": "code",
   "execution_count": 59,
   "metadata": {},
   "outputs": [
    {
     "name": "stdout",
     "output_type": "stream",
     "text": [
      "f+g \tx^5 + x^2 - x + 4\n",
      "f*g \tx^7 + x^5 - x^3 + 3*x^2 - x + 3\n"
     ]
    }
   ],
   "source": [
    "print \"f+g \\t\", str(f+g)\n",
    "print \"f*g \\t\", str((f*g).full_simplify())"
   ]
  },
  {
   "cell_type": "code",
   "execution_count": 62,
   "metadata": {},
   "outputs": [
    {
     "data": {
      "text/plain": [
       "x^7 + x^5 - x^3 + 3*x^2 - x + 3"
      ]
     },
     "execution_count": 62,
     "metadata": {},
     "output_type": "execute_result"
    }
   ],
   "source": [
    "(f(x)*g(x)).full_simplify()"
   ]
  },
  {
   "cell_type": "code",
   "execution_count": 68,
   "metadata": {},
   "outputs": [],
   "source": [
    "intpoly.<y> = PolynomialRing(Zmod(4))\n",
    "fy = y^5 - y + 3\n",
    "gy = y^2 + 1"
   ]
  },
  {
   "cell_type": "code",
   "execution_count": 69,
   "metadata": {
    "scrolled": true
   },
   "outputs": [
    {
     "name": "stdout",
     "output_type": "stream",
     "text": [
      "f+g \ty^5 + y^2 + 3*y\n",
      "f*g \ty^7 + y^5 + 3*y^3 + 3*y^2 + 3*y + 3\n"
     ]
    }
   ],
   "source": [
    "print \"f+g \\t\", str((fy+gy))\n",
    "print \"f*g \\t\", str((fy*gy))"
   ]
  },
  {
   "cell_type": "markdown",
   "metadata": {},
   "source": [
    "# Zadanie 0.5"
   ]
  },
  {
   "cell_type": "code",
   "execution_count": 82,
   "metadata": {},
   "outputs": [],
   "source": [
    "a5 = GF(5)(1)\n",
    "b5 = Zmod(3)(1)"
   ]
  },
  {
   "cell_type": "code",
   "execution_count": 83,
   "metadata": {},
   "outputs": [
    {
     "name": "stdout",
     "output_type": "stream",
     "text": [
      "Finite Field of size 5\n",
      "Ring of integers modulo 3\n"
     ]
    },
    {
     "data": {
      "text/plain": [
       "False"
      ]
     },
     "execution_count": 83,
     "metadata": {},
     "output_type": "execute_result"
    }
   ],
   "source": [
    "print parent(a5)\n",
    "print parent(b5)\n",
    "parent(a5) == parent(b5)"
   ]
  },
  {
   "cell_type": "code",
   "execution_count": 86,
   "metadata": {},
   "outputs": [
    {
     "name": "stdout",
     "output_type": "stream",
     "text": [
      "<type 'sage.rings.finite_rings.integer_mod.IntegerMod_int'>\n",
      "<type 'sage.rings.finite_rings.integer_mod.IntegerMod_int'>\n"
     ]
    },
    {
     "data": {
      "text/plain": [
       "True"
      ]
     },
     "execution_count": 86,
     "metadata": {},
     "output_type": "execute_result"
    }
   ],
   "source": [
    "print type(a5)\n",
    "print type(b5)\n",
    "type(a5) == type(b5)"
   ]
  },
  {
   "cell_type": "code",
   "execution_count": 84,
   "metadata": {},
   "outputs": [
    {
     "name": "stdout",
     "output_type": "stream",
     "text": [
      "Nie można dodać. ;-;\n"
     ]
    }
   ],
   "source": [
    "try: \n",
    "    print(\"Jest wynik: \"+str(a5+b5))\n",
    "except:\n",
    "    print(\"Nie można dodać. ;-;\")"
   ]
  },
  {
   "cell_type": "markdown",
   "metadata": {},
   "source": [
    "Nie ma homomorfizmu z pierścienia Z5 do pierścienia Z3, więc nie można dodać tych liczb."
   ]
  },
  {
   "cell_type": "markdown",
   "metadata": {},
   "source": [
    "# Zadanie 0.6"
   ]
  },
  {
   "cell_type": "code",
   "execution_count": 81,
   "metadata": {},
   "outputs": [],
   "source": [
    "a6 = GF(3)(1)\n",
    "b6 = Zmod(6)(1)"
   ]
  },
  {
   "cell_type": "code",
   "execution_count": 85,
   "metadata": {},
   "outputs": [
    {
     "name": "stdout",
     "output_type": "stream",
     "text": [
      "Finite Field of size 3\n",
      "Ring of integers modulo 6\n"
     ]
    },
    {
     "data": {
      "text/plain": [
       "False"
      ]
     },
     "execution_count": 85,
     "metadata": {},
     "output_type": "execute_result"
    }
   ],
   "source": [
    "print parent(a6)\n",
    "print parent(b6)\n",
    "parent(a6) == parent(b6)"
   ]
  },
  {
   "cell_type": "code",
   "execution_count": 87,
   "metadata": {},
   "outputs": [
    {
     "name": "stdout",
     "output_type": "stream",
     "text": [
      "<type 'sage.rings.finite_rings.integer_mod.IntegerMod_int'>\n",
      "<type 'sage.rings.finite_rings.integer_mod.IntegerMod_int'>\n"
     ]
    },
    {
     "data": {
      "text/plain": [
       "True"
      ]
     },
     "execution_count": 87,
     "metadata": {},
     "output_type": "execute_result"
    }
   ],
   "source": [
    "print type(a6)\n",
    "print type(b6)\n",
    "type(a6) == type(b6)"
   ]
  },
  {
   "cell_type": "code",
   "execution_count": 88,
   "metadata": {},
   "outputs": [
    {
     "name": "stdout",
     "output_type": "stream",
     "text": [
      "Jest wynik: 2\n"
     ]
    }
   ],
   "source": [
    "try: \n",
    "    print(\"Jest wynik: \"+str(a6+b6))\n",
    "except:\n",
    "    print(\"Nie można dodać. ;-;\")"
   ]
  },
  {
   "cell_type": "markdown",
   "metadata": {},
   "source": [
    "Istnieje homomorfizm z pierścienia Z6 do pierścienia Z3, więc można dodać te liczby."
   ]
  },
  {
   "cell_type": "markdown",
   "metadata": {},
   "source": [
    "# Zadanie 0.7"
   ]
  },
  {
   "cell_type": "code",
   "execution_count": 92,
   "metadata": {},
   "outputs": [],
   "source": [
    "from sage.matrix.operation_table import OperationTable"
   ]
  },
  {
   "cell_type": "code",
   "execution_count": 98,
   "metadata": {
    "scrolled": false
   },
   "outputs": [
    {
     "data": {
      "text/plain": [
       "*  0 1 2 3 4 5 6 7 8\n",
       " +------------------\n",
       "0| 0 0 0 0 0 0 0 0 0\n",
       "1| 0 2 3 4 5 6 7 8 1\n",
       "2| 0 3 4 5 6 7 8 1 2\n",
       "3| 0 4 5 6 7 8 1 2 3\n",
       "4| 0 5 6 7 8 1 2 3 4\n",
       "5| 0 6 7 8 1 2 3 4 5\n",
       "6| 0 7 8 1 2 3 4 5 6\n",
       "7| 0 8 1 2 3 4 5 6 7\n",
       "8| 0 1 2 3 4 5 6 7 8\n"
      ]
     },
     "execution_count": 98,
     "metadata": {},
     "output_type": "execute_result"
    }
   ],
   "source": [
    "OperationTable(GF(9), operation=operator.mul, names='digits')"
   ]
  },
  {
   "cell_type": "code",
   "execution_count": 99,
   "metadata": {},
   "outputs": [
    {
     "data": {
      "text/plain": [
       "*  0 1 2 3 4 5 6 7 8\n",
       " +------------------\n",
       "0| 0 0 0 0 0 0 0 0 0\n",
       "1| 0 1 2 3 4 5 6 7 8\n",
       "2| 0 2 4 6 8 1 3 5 7\n",
       "3| 0 3 6 0 3 6 0 3 6\n",
       "4| 0 4 8 3 7 2 6 1 5\n",
       "5| 0 5 1 6 2 7 3 8 4\n",
       "6| 0 6 3 0 6 3 0 6 3\n",
       "7| 0 7 5 3 1 8 6 4 2\n",
       "8| 0 8 7 6 5 4 3 2 1\n"
      ]
     },
     "execution_count": 99,
     "metadata": {},
     "output_type": "execute_result"
    }
   ],
   "source": [
    "OperationTable(Zmod(9), operation=operator.mul, names='digits')"
   ]
  },
  {
   "cell_type": "code",
   "execution_count": 95,
   "metadata": {
    "scrolled": true
   },
   "outputs": [
    {
     "data": {
      "text/plain": [
       "+  0 1 2 3 4 5 6 7 8\n",
       " +------------------\n",
       "0| 0 1 2 3 4 5 6 7 8\n",
       "1| 1 5 3 8 7 0 4 6 2\n",
       "2| 2 3 6 4 1 8 0 5 7\n",
       "3| 3 8 4 7 5 2 1 0 6\n",
       "4| 4 7 1 5 8 6 3 2 0\n",
       "5| 5 0 8 2 6 1 7 4 3\n",
       "6| 6 4 0 1 3 7 2 8 5\n",
       "7| 7 6 5 0 2 4 8 3 1\n",
       "8| 8 2 7 6 0 3 5 1 4\n"
      ]
     },
     "execution_count": 95,
     "metadata": {},
     "output_type": "execute_result"
    }
   ],
   "source": [
    "OperationTable(GF(9), operation=operator.add, names='digits')"
   ]
  },
  {
   "cell_type": "code",
   "execution_count": 100,
   "metadata": {},
   "outputs": [
    {
     "data": {
      "text/plain": [
       "+  0 1 2 3 4 5 6 7 8\n",
       " +------------------\n",
       "0| 0 1 2 3 4 5 6 7 8\n",
       "1| 1 2 3 4 5 6 7 8 0\n",
       "2| 2 3 4 5 6 7 8 0 1\n",
       "3| 3 4 5 6 7 8 0 1 2\n",
       "4| 4 5 6 7 8 0 1 2 3\n",
       "5| 5 6 7 8 0 1 2 3 4\n",
       "6| 6 7 8 0 1 2 3 4 5\n",
       "7| 7 8 0 1 2 3 4 5 6\n",
       "8| 8 0 1 2 3 4 5 6 7\n"
      ]
     },
     "execution_count": 100,
     "metadata": {},
     "output_type": "execute_result"
    }
   ],
   "source": [
    "OperationTable(Zmod(9), operation=operator.add, names='digits')"
   ]
  },
  {
   "cell_type": "code",
   "execution_count": null,
   "metadata": {},
   "outputs": [],
   "source": []
  }
 ],
 "metadata": {
  "kernelspec": {
   "display_name": "SageMath 8.1",
   "language": "",
   "name": "sagemath"
  },
  "language_info": {
   "codemirror_mode": {
    "name": "ipython",
    "version": 2
   },
   "file_extension": ".py",
   "mimetype": "text/x-python",
   "name": "python",
   "nbconvert_exporter": "python",
   "pygments_lexer": "ipython2",
   "version": "2.7.15rc1"
  }
 },
 "nbformat": 4,
 "nbformat_minor": 2
}
