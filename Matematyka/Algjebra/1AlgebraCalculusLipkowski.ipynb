{
 "cells": [
  {
   "cell_type": "markdown",
   "metadata": {},
   "source": [
    "# Zadanie 0.1"
   ]
  },
  {
   "cell_type": "code",
   "execution_count": 1,
   "metadata": {},
   "outputs": [],
   "source": [
    "f(z) = z^2"
   ]
  },
  {
   "cell_type": "code",
   "execution_count": 2,
   "metadata": {},
   "outputs": [
    {
     "data": {
      "text/plain": [
       "2*z"
      ]
     },
     "execution_count": 2,
     "metadata": {},
     "output_type": "execute_result"
    }
   ],
   "source": [
    "diff(f(z), z)"
   ]
  },
  {
   "cell_type": "code",
   "execution_count": 3,
   "metadata": {},
   "outputs": [],
   "source": [
    "z = var('z')"
   ]
  },
  {
   "cell_type": "code",
   "execution_count": 4,
   "metadata": {},
   "outputs": [
    {
     "data": {
      "text/plain": [
       "2*z"
      ]
     },
     "execution_count": 4,
     "metadata": {},
     "output_type": "execute_result"
    }
   ],
   "source": [
    "diff(f(z), z)"
   ]
  },
  {
   "cell_type": "code",
   "execution_count": 5,
   "metadata": {},
   "outputs": [
    {
     "data": {
      "text/plain": [
       "0"
      ]
     },
     "execution_count": 5,
     "metadata": {},
     "output_type": "execute_result"
    }
   ],
   "source": [
    "diff(f(z), 5)"
   ]
  },
  {
   "cell_type": "code",
   "execution_count": 6,
   "metadata": {},
   "outputs": [
    {
     "data": {
      "text/plain": [
       "0"
      ]
     },
     "execution_count": 6,
     "metadata": {},
     "output_type": "execute_result"
    }
   ],
   "source": [
    "diff(f(5), z)"
   ]
  },
  {
   "cell_type": "markdown",
   "metadata": {},
   "source": [
    "# Zadanie 0.2"
   ]
  },
  {
   "cell_type": "code",
   "execution_count": 11,
   "metadata": {},
   "outputs": [],
   "source": [
    "x, a, b, c = var('x a b c')"
   ]
  },
  {
   "cell_type": "code",
   "execution_count": 13,
   "metadata": {},
   "outputs": [
    {
     "data": {
      "text/plain": [
       "[x == -1/2*(b + sqrt(b^2 - 4*a*c))/a, x == -1/2*(b - sqrt(b^2 - 4*a*c))/a]"
      ]
     },
     "execution_count": 13,
     "metadata": {},
     "output_type": "execute_result"
    }
   ],
   "source": [
    "solve([a*x^2+b*x+c == 0], x)"
   ]
  },
  {
   "cell_type": "code",
   "execution_count": 20,
   "metadata": {},
   "outputs": [
    {
     "data": {
      "text/plain": [
       "[x == -1, x == 1]"
      ]
     },
     "execution_count": 20,
     "metadata": {},
     "output_type": "execute_result"
    }
   ],
   "source": [
    "solve((a*x^2+b*x+c == 0).substitute(a=1,b=0,c=-1), x)"
   ]
  },
  {
   "cell_type": "markdown",
   "metadata": {},
   "source": [
    "Odp. do 0.1 i 0.2: O ile w 0.1 silnik się domyślił, że z jest zmienną, bez deklarowania var(), to w drugim zadaniu wymagane było zadeklarowanie zmiennych x, a, b, c"
   ]
  },
  {
   "cell_type": "markdown",
   "metadata": {},
   "source": [
    "# Zadanie 0.3"
   ]
  },
  {
   "cell_type": "code",
   "execution_count": 21,
   "metadata": {},
   "outputs": [],
   "source": [
    "x, p, q = var('x p q')"
   ]
  },
  {
   "cell_type": "code",
   "execution_count": 25,
   "metadata": {},
   "outputs": [
    {
     "data": {
      "text/plain": [
       "[x == -1/6*p*(-I*sqrt(3) + 1)/(1/2*q + 1/6*sqrt(-4/3*p^3 + 9*q^2))^(1/3) - 1/2*(1/2*q + 1/6*sqrt(-4/3*p^3 + 9*q^2))^(1/3)*(I*sqrt(3) + 1), x == -1/6*p*(I*sqrt(3) + 1)/(1/2*q + 1/6*sqrt(-4/3*p^3 + 9*q^2))^(1/3) - 1/2*(1/2*q + 1/6*sqrt(-4/3*p^3 + 9*q^2))^(1/3)*(-I*sqrt(3) + 1), x == 1/3*p/(1/2*q + 1/6*sqrt(-4/3*p^3 + 9*q^2))^(1/3) + (1/2*q + 1/6*sqrt(-4/3*p^3 + 9*q^2))^(1/3)]"
      ]
     },
     "execution_count": 25,
     "metadata": {},
     "output_type": "execute_result"
    }
   ],
   "source": [
    "solve((x^3 == p*x+q), x)"
   ]
  },
  {
   "cell_type": "code",
   "execution_count": 24,
   "metadata": {},
   "outputs": [
    {
     "data": {
      "text/plain": [
       "[x == -1, x == 1, x == 0]"
      ]
     },
     "execution_count": 24,
     "metadata": {},
     "output_type": "execute_result"
    }
   ],
   "source": [
    "solve((x^3 == x), x)"
   ]
  },
  {
   "cell_type": "code",
   "execution_count": 27,
   "metadata": {},
   "outputs": [
    {
     "data": {
      "text/html": [
       "<html><script type=\"math/tex; mode=display\">\\newcommand{\\Bold}[1]{\\mathbf{#1}}\\left[x = -\\frac{p {\\left(-i \\, \\sqrt{3} + 1\\right)}}{6 \\, {\\left(\\frac{1}{2} \\, q + \\frac{1}{6} \\, \\sqrt{-\\frac{4}{3} \\, p^{3} + 9 \\, q^{2}}\\right)}^{\\frac{1}{3}}} - \\frac{1}{2} \\, {\\left(\\frac{1}{2} \\, q + \\frac{1}{6} \\, \\sqrt{-\\frac{4}{3} \\, p^{3} + 9 \\, q^{2}}\\right)}^{\\frac{1}{3}} {\\left(i \\, \\sqrt{3} + 1\\right)}, x = -\\frac{p {\\left(i \\, \\sqrt{3} + 1\\right)}}{6 \\, {\\left(\\frac{1}{2} \\, q + \\frac{1}{6} \\, \\sqrt{-\\frac{4}{3} \\, p^{3} + 9 \\, q^{2}}\\right)}^{\\frac{1}{3}}} - \\frac{1}{2} \\, {\\left(\\frac{1}{2} \\, q + \\frac{1}{6} \\, \\sqrt{-\\frac{4}{3} \\, p^{3} + 9 \\, q^{2}}\\right)}^{\\frac{1}{3}} {\\left(-i \\, \\sqrt{3} + 1\\right)}, x = \\frac{p}{3 \\, {\\left(\\frac{1}{2} \\, q + \\frac{1}{6} \\, \\sqrt{-\\frac{4}{3} \\, p^{3} + 9 \\, q^{2}}\\right)}^{\\frac{1}{3}}} + {\\left(\\frac{1}{2} \\, q + \\frac{1}{6} \\, \\sqrt{-\\frac{4}{3} \\, p^{3} + 9 \\, q^{2}}\\right)}^{\\frac{1}{3}}\\right]</script></html>"
      ],
      "text/plain": [
       "[x == -1/6*p*(-I*sqrt(3) + 1)/(1/2*q + 1/6*sqrt(-4/3*p^3 + 9*q^2))^(1/3) - 1/2*(1/2*q + 1/6*sqrt(-4/3*p^3 + 9*q^2))^(1/3)*(I*sqrt(3) + 1), x == -1/6*p*(I*sqrt(3) + 1)/(1/2*q + 1/6*sqrt(-4/3*p^3 + 9*q^2))^(1/3) - 1/2*(1/2*q + 1/6*sqrt(-4/3*p^3 + 9*q^2))^(1/3)*(-I*sqrt(3) + 1), x == 1/3*p/(1/2*q + 1/6*sqrt(-4/3*p^3 + 9*q^2))^(1/3) + (1/2*q + 1/6*sqrt(-4/3*p^3 + 9*q^2))^(1/3)]"
      ]
     },
     "metadata": {},
     "output_type": "display_data"
    }
   ],
   "source": [
    "show(solve((x^3 == p*x+q), x))"
   ]
  },
  {
   "cell_type": "code",
   "execution_count": 28,
   "metadata": {},
   "outputs": [
    {
     "data": {
      "text/plain": [
       "\\left[x = -\\frac{p {\\left(-i \\, \\sqrt{3} + 1\\right)}}{6 \\, {\\left(\\frac{1}{2} \\, q + \\frac{1}{6} \\, \\sqrt{-\\frac{4}{3} \\, p^{3} + 9 \\, q^{2}}\\right)}^{\\frac{1}{3}}} - \\frac{1}{2} \\, {\\left(\\frac{1}{2} \\, q + \\frac{1}{6} \\, \\sqrt{-\\frac{4}{3} \\, p^{3} + 9 \\, q^{2}}\\right)}^{\\frac{1}{3}} {\\left(i \\, \\sqrt{3} + 1\\right)}, x = -\\frac{p {\\left(i \\, \\sqrt{3} + 1\\right)}}{6 \\, {\\left(\\frac{1}{2} \\, q + \\frac{1}{6} \\, \\sqrt{-\\frac{4}{3} \\, p^{3} + 9 \\, q^{2}}\\right)}^{\\frac{1}{3}}} - \\frac{1}{2} \\, {\\left(\\frac{1}{2} \\, q + \\frac{1}{6} \\, \\sqrt{-\\frac{4}{3} \\, p^{3} + 9 \\, q^{2}}\\right)}^{\\frac{1}{3}} {\\left(-i \\, \\sqrt{3} + 1\\right)}, x = \\frac{p}{3 \\, {\\left(\\frac{1}{2} \\, q + \\frac{1}{6} \\, \\sqrt{-\\frac{4}{3} \\, p^{3} + 9 \\, q^{2}}\\right)}^{\\frac{1}{3}}} + {\\left(\\frac{1}{2} \\, q + \\frac{1}{6} \\, \\sqrt{-\\frac{4}{3} \\, p^{3} + 9 \\, q^{2}}\\right)}^{\\frac{1}{3}}\\right]"
      ]
     },
     "execution_count": 28,
     "metadata": {},
     "output_type": "execute_result"
    }
   ],
   "source": [
    "latex(solve((x^3 == p*x+q), x))"
   ]
  },
  {
   "cell_type": "markdown",
   "metadata": {},
   "source": [
    "Widać pewne podobieństwo do wzorów Cardano, jednakże nie jest to ta sama postać. "
   ]
  },
  {
   "cell_type": "markdown",
   "metadata": {},
   "source": [
    "# Zadanie 0.4"
   ]
  },
  {
   "cell_type": "code",
   "execution_count": 29,
   "metadata": {},
   "outputs": [
    {
     "data": {
      "text/plain": [
       "1/16*sqrt(pi)*((I + 1)*sqrt(2)*erf((1/2*I + 1/2)*sqrt(2)*x) + (I - 1)*sqrt(2)*erf((1/2*I - 1/2)*sqrt(2)*x) - (I - 1)*sqrt(2)*erf(sqrt(-I)*x) + (I + 1)*sqrt(2)*erf((-1)^(1/4)*x))"
      ]
     },
     "execution_count": 29,
     "metadata": {},
     "output_type": "execute_result"
    }
   ],
   "source": [
    "integral(sin(x^2), x)"
   ]
  },
  {
   "cell_type": "code",
   "execution_count": 32,
   "metadata": {},
   "outputs": [
    {
     "data": {
      "text/plain": [
       "1/16*sqrt(pi)*((I + 1)*sqrt(2)*erf((1/2*I + 1/2)*sqrt(2)*x) + (I - 1)*sqrt(2)*erf((1/2*I - 1/2)*sqrt(2)*x) - (I - 1)*sqrt(2)*erf(sqrt(-I)*x) + (I + 1)*sqrt(2)*erf((-1)^(1/4)*x))"
      ]
     },
     "execution_count": 32,
     "metadata": {},
     "output_type": "execute_result"
    }
   ],
   "source": [
    "integral(sin(x^2), x).full_simplify()"
   ]
  },
  {
   "cell_type": "code",
   "execution_count": 34,
   "metadata": {},
   "outputs": [
    {
     "data": {
      "text/plain": [
       "-1/2*I*Ei(I*x) + 1/2*I*Ei(-I*x)"
      ]
     },
     "execution_count": 34,
     "metadata": {},
     "output_type": "execute_result"
    }
   ],
   "source": [
    "integral(sin(x)/x, x).full_simplify()"
   ]
  },
  {
   "cell_type": "markdown",
   "metadata": {},
   "source": [
    "Rozwiązanie jest wyrażone za pomocą funkcji niemożliwych do wyrażenia za pomocą funkcji elementarnych (np. erf(x) – funkcja błędu, Ei(x) – funkcja całkowo-wykładnicza)"
   ]
  },
  {
   "cell_type": "code",
   "execution_count": null,
   "metadata": {},
   "outputs": [],
   "source": []
  }
 ],
 "metadata": {
  "kernelspec": {
   "display_name": "SageMath 8.1",
   "language": "",
   "name": "sagemath"
  },
  "language_info": {
   "codemirror_mode": {
    "name": "ipython",
    "version": 2
   },
   "file_extension": ".py",
   "mimetype": "text/x-python",
   "name": "python",
   "nbconvert_exporter": "python",
   "pygments_lexer": "ipython2",
   "version": "2.7.15rc1"
  }
 },
 "nbformat": 4,
 "nbformat_minor": 2
}
